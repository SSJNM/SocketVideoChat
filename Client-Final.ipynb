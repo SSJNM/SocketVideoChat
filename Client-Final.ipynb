{
 "cells": [
  {
   "cell_type": "code",
   "execution_count": 1,
   "id": "5770fb70",
   "metadata": {},
   "outputs": [],
   "source": [
    "import socket\n",
    "import threading\n",
    "import cv2\n",
    "import numpy as np\n",
    "import pickle"
   ]
  },
  {
   "cell_type": "code",
   "execution_count": 2,
   "id": "79f8d734",
   "metadata": {},
   "outputs": [],
   "source": [
    "#Creating Socket Program\n",
    "protocol = socket.SOCK_STREAM\n",
    "net_family = socket.AF_INET\n",
    "s = socket.socket(net_family, protocol)"
   ]
  },
  {
   "cell_type": "code",
   "execution_count": 3,
   "id": "4c30eded",
   "metadata": {},
   "outputs": [
    {
     "name": "stdout",
     "output_type": "stream",
     "text": [
      "b'Im server'\n"
     ]
    }
   ],
   "source": [
    "#Connecting to the Server\n",
    "serverip = \"192.168.29.222\"\n",
    "port = 8889\n",
    "s.connect((serverip, port))\n",
    "print(s.recv(9))"
   ]
  },
  {
   "cell_type": "code",
   "execution_count": 4,
   "id": "2d76ca27",
   "metadata": {},
   "outputs": [],
   "source": [
    "#Selecting the Camera Input\n",
    "cap = cv2.VideoCapture(1)"
   ]
  },
  {
   "cell_type": "code",
   "execution_count": 5,
   "id": "69cb0ca2",
   "metadata": {},
   "outputs": [
    {
     "data": {
      "text/plain": [
       "True"
      ]
     },
     "execution_count": 5,
     "metadata": {},
     "output_type": "execute_result"
    }
   ],
   "source": [
    "#Checking whether camera is connected or not\n",
    "cap.isOpened()"
   ]
  },
  {
   "cell_type": "code",
   "execution_count": 6,
   "id": "16ad0ca1",
   "metadata": {},
   "outputs": [
    {
     "ename": "SyntaxError",
     "evalue": "invalid syntax (<ipython-input-6-2937e6c34f3a>, line 1)",
     "output_type": "error",
     "traceback": [
      "\u001b[1;36m  File \u001b[1;32m\"<ipython-input-6-2937e6c34f3a>\"\u001b[1;36m, line \u001b[1;32m1\u001b[0m\n\u001b[1;33m    Client is also ready\u001b[0m\n\u001b[1;37m                       ^\u001b[0m\n\u001b[1;31mSyntaxError\u001b[0m\u001b[1;31m:\u001b[0m invalid syntax\n"
     ]
    }
   ],
   "source": [
    "Client is also ready"
   ]
  },
  {
   "cell_type": "code",
   "execution_count": 7,
   "id": "48e93e27",
   "metadata": {
    "scrolled": true
   },
   "outputs": [
    {
     "name": "stdout",
     "output_type": "stream",
     "text": [
      "Received Stream\n",
      "Received Stream\n",
      "Received Stream\n",
      "Received Stream\n",
      "Received Stream\n",
      "Received Stream\n",
      "Received Stream\n",
      "Received Stream\n",
      "Received Stream\n",
      "Received Stream\n",
      "Received Stream\n",
      "Received Stream\n",
      "Received Stream\n",
      "Received Stream\n",
      "Received Stream\n",
      "Received Stream\n",
      "Received Stream\n",
      "Received Stream\n",
      "Received Stream\n",
      "Received Stream\n",
      "Received Stream\n",
      "Received Stream\n",
      "Received Stream\n",
      "Received Stream\n",
      "Received Stream\n",
      "Received Stream\n",
      "Received Stream\n",
      "Received Stream\n",
      "Received Stream\n",
      "Received Stream\n",
      "Received Stream\n",
      "Received Stream\n",
      "Received Stream\n",
      "Received Stream\n",
      "Received Stream\n",
      "Received Stream\n",
      "Received Stream\n",
      "Received Stream\n",
      "Received Stream\n",
      "Received Stream\n",
      "Received Stream\n"
     ]
    }
   ],
   "source": [
    "#Image Stream Program\n",
    "while True:\n",
    "    #Receiving the Image stream from Server\n",
    "    data = s.recv(1000000)\n",
    "    encoded_photo = np.frombuffer(data , dtype = np.uint8)\n",
    "    decoded_photo = cv2.imdecode(encoded_photo, cv2.IMREAD_COLOR)\n",
    "    if type(decoded_photo) is type(None):\n",
    "        pass\n",
    "    else:\n",
    "        print(\"Received Stream\")\n",
    "        cv2.imshow(\"Video from Server\", decoded_photo)\n",
    "        if cv2.waitKey(200) == 13:\n",
    "            cv2.destroyAllWindows()\n",
    "            break\n",
    "            \n",
    "    #Sending Image stream to server\n",
    "    status, photo = cap.read()\n",
    "    if type(photo) is type(None):\n",
    "        pass\n",
    "    else:\n",
    "        photo_to_bytes = cv2.imencode('.jpg',photo)[1].tobytes()\n",
    "        s.sendall(photo_to_bytes)\n",
    "\n",
    "cap.release()"
   ]
  },
  {
   "cell_type": "code",
   "execution_count": null,
   "id": "bbe93a9a",
   "metadata": {},
   "outputs": [],
   "source": []
  }
 ],
 "metadata": {
  "kernelspec": {
   "display_name": "Python 3",
   "language": "python",
   "name": "python3"
  },
  "language_info": {
   "codemirror_mode": {
    "name": "ipython",
    "version": 3
   },
   "file_extension": ".py",
   "mimetype": "text/x-python",
   "name": "python",
   "nbconvert_exporter": "python",
   "pygments_lexer": "ipython3",
   "version": "3.7.6"
  }
 },
 "nbformat": 4,
 "nbformat_minor": 5
}
