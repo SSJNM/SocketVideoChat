{
 "cells": [
  {
   "cell_type": "code",
   "execution_count": 1,
   "metadata": {},
   "outputs": [],
   "source": [
    "import socket\n",
    "import threading\n",
    "import cv2\n",
    "import numpy as np"
   ]
  },
  {
   "cell_type": "code",
   "execution_count": 2,
   "metadata": {},
   "outputs": [],
   "source": [
    "#Creating Socket Program\n",
    "protocol = socket.SOCK_STREAM\n",
    "net_family = socket.AF_INET\n",
    "s = socket.socket(net_family, protocol)"
   ]
  },
  {
   "cell_type": "code",
   "execution_count": 3,
   "metadata": {},
   "outputs": [],
   "source": [
    "#Binding Socket\n",
    "serverip = \"\"\n",
    "port = 8889\n",
    "s.bind((serverip,port))\n",
    "s.listen()"
   ]
  },
  {
   "cell_type": "code",
   "execution_count": 4,
   "metadata": {},
   "outputs": [
    {
     "data": {
      "text/plain": [
       "9"
      ]
     },
     "execution_count": 4,
     "metadata": {},
     "output_type": "execute_result"
    }
   ],
   "source": [
    "#Starting Session\n",
    "csession, addr = s.accept()\n",
    "csession.send(b\"Im server\")"
   ]
  },
  {
   "cell_type": "code",
   "execution_count": 5,
   "metadata": {},
   "outputs": [],
   "source": [
    "#Selecting the Camera Input\n",
    "cap = cv2.VideoCapture(0)"
   ]
  },
  {
   "cell_type": "code",
   "execution_count": 6,
   "metadata": {},
   "outputs": [
    {
     "data": {
      "text/plain": [
       "True"
      ]
     },
     "execution_count": 6,
     "metadata": {},
     "output_type": "execute_result"
    }
   ],
   "source": [
    "#Checking whether camera is mounted or not\n",
    "cap.isOpened()"
   ]
  },
  {
   "cell_type": "code",
   "execution_count": 7,
   "metadata": {},
   "outputs": [
    {
     "ename": "SyntaxError",
     "evalue": "invalid syntax (<ipython-input-7-35535e877282>, line 1)",
     "output_type": "error",
     "traceback": [
      "\u001b[1;36m  File \u001b[1;32m\"<ipython-input-7-35535e877282>\"\u001b[1;36m, line \u001b[1;32m1\u001b[0m\n\u001b[1;33m    Now its time to start Image stream\u001b[0m\n\u001b[1;37m          ^\u001b[0m\n\u001b[1;31mSyntaxError\u001b[0m\u001b[1;31m:\u001b[0m invalid syntax\n"
     ]
    }
   ],
   "source": [
    "Now its time to start Image stream"
   ]
  },
  {
   "cell_type": "code",
   "execution_count": null,
   "metadata": {},
   "outputs": [
    {
     "name": "stdout",
     "output_type": "stream",
     "text": [
      ".\n",
      "Received Stream\n",
      ".\n",
      "Received Stream\n",
      ".\n",
      "Received Stream\n",
      ".\n",
      "Received Stream\n",
      ".\n",
      "Received Stream\n",
      ".\n",
      "Received Stream\n",
      ".\n",
      "Received Stream\n",
      ".\n",
      "Received Stream\n",
      ".\n",
      "Received Stream\n",
      ".\n",
      "Received Stream\n",
      ".\n",
      "Received Stream\n",
      ".\n",
      "Received Stream\n",
      ".\n",
      "Received Stream\n",
      ".\n",
      "Received Stream\n",
      ".\n",
      "Received Stream\n",
      ".\n",
      "Received Stream\n",
      ".\n",
      "Received Stream\n",
      ".\n",
      "Received Stream\n",
      ".\n",
      "Received Stream\n",
      ".\n",
      "Received Stream\n",
      ".\n",
      "Received Stream\n",
      ".\n",
      "Received Stream\n",
      ".\n",
      "Received Stream\n",
      ".\n",
      "Received Stream\n",
      ".\n",
      "Received Stream\n",
      ".\n",
      "Received Stream\n",
      ".\n",
      "Received Stream\n",
      ".\n",
      "Received Stream\n",
      ".\n",
      "Received Stream\n",
      ".\n",
      "Received Stream\n",
      ".\n",
      "Received Stream\n",
      ".\n",
      "Received Stream\n",
      ".\n",
      "Received Stream\n",
      ".\n",
      "Received Stream\n",
      ".\n",
      "Received Stream\n",
      ".\n",
      "Received Stream\n",
      ".\n",
      "Received Stream\n",
      ".\n",
      "Received Stream\n",
      ".\n",
      "Received Stream\n",
      ".\n",
      "Received Stream\n",
      ".\n"
     ]
    }
   ],
   "source": [
    "#Running the Program\n",
    "while True:\n",
    "    #Sending the Image stream\n",
    "    status, photo = cap.read()\n",
    "    if type(photo) is type(None):\n",
    "        pass\n",
    "    else:\n",
    "        photo_to_bytes = cv2.imencode('.jpg',photo)[1].tobytes()\n",
    "        csession.sendall(photo_to_bytes)\n",
    "        print(\".\")\n",
    "\n",
    "    #Recieving the Image stream\n",
    "    data = csession.recv(1000000)\n",
    "    encoded_photo = np.frombuffer(data , dtype = np.uint8)\n",
    "    decoded_photo = cv2.imdecode(encoded_photo, cv2.IMREAD_COLOR)\n",
    "    if type(decoded_photo) is type(None):\n",
    "        pass\n",
    "    else:\n",
    "        print(\"Received Stream\")\n",
    "        cv2.imshow(\"Video from Server\", decoded_photo)\n",
    "        if cv2.waitKey(200) == 13:\n",
    "            cv2.destroyAllWindows()\n",
    "            break\n",
    "cap.release()"
   ]
  },
  {
   "cell_type": "code",
   "execution_count": null,
   "metadata": {},
   "outputs": [],
   "source": []
  }
 ],
 "metadata": {
  "kernelspec": {
   "display_name": "Python 3",
   "language": "python",
   "name": "python3"
  },
  "language_info": {
   "codemirror_mode": {
    "name": "ipython",
    "version": 3
   },
   "file_extension": ".py",
   "mimetype": "text/x-python",
   "name": "python",
   "nbconvert_exporter": "python",
   "pygments_lexer": "ipython3",
   "version": "3.7.6"
  }
 },
 "nbformat": 4,
 "nbformat_minor": 4
}
