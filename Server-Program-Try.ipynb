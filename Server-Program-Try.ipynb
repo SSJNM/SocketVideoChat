{
 "cells": [
  {
   "cell_type": "code",
   "execution_count": null,
   "metadata": {},
   "outputs": [],
   "source": [
    "import socket\n",
    "import threading\n",
    "import cv2\n",
    "import numpy as np\n",
    "import pickle\n",
    "import sys"
   ]
  },
  {
   "cell_type": "code",
   "execution_count": null,
   "metadata": {},
   "outputs": [],
   "source": [
    "#Creating Socket Program\n",
    "protocol = socket.SOCK_STREAM\n",
    "net_family = socket.AF_INET\n",
    "s = socket.socket(net_family, protocol)"
   ]
  },
  {
   "cell_type": "code",
   "execution_count": null,
   "metadata": {},
   "outputs": [],
   "source": [
    "#Binding Socket\n",
    "serverip = \"\"\n",
    "port = 8889\n",
    "s.bind((serverip,port))\n",
    "s.listen()"
   ]
  },
  {
   "cell_type": "code",
   "execution_count": null,
   "metadata": {},
   "outputs": [],
   "source": [
    "#Starting Session\n",
    "csession, addr = s.accept()\n",
    "csession.send(b\"Im server\")"
   ]
  },
  {
   "cell_type": "code",
   "execution_count": null,
   "metadata": {},
   "outputs": [],
   "source": [
    "#Selecting the Camera Input\n",
    "cap = cv2.VideoCapture(0)"
   ]
  },
  {
   "cell_type": "code",
   "execution_count": null,
   "metadata": {},
   "outputs": [],
   "source": [
    "cap.isOpened()"
   ]
  },
  {
   "cell_type": "code",
   "execution_count": null,
   "metadata": {},
   "outputs": [],
   "source": [
    "#Function to Send the image stream to client\n",
    "def Send(csession):\n",
    "    while True:\n",
    "        status, photo = cap.read()\n",
    "        if type(photo) is type(None):\n",
    "            pass\n",
    "        else:\n",
    "            #cv2.imshow(\"Video on Server\", photo)\n",
    "            #if cv2.waitKey(10) == 13:\n",
    "            #    cv2.destroyAllWindows()\n",
    "            #    break\n",
    "            dumped_photo = pickle.dumps(photo)\n",
    "            csession.sendall(dumped_photo)\n",
    "    cap.release()\n",
    "\n",
    "\"\"\"\n",
    "\n",
    "def Send(csession):\n",
    "    while True:\n",
    "        \n",
    "        status, photo = cap.read()\n",
    "        if type(photo) is type(None):\n",
    "            pass\n",
    "        else:\n",
    "            #photo_buffer = cv2.imencode('.jpg',photo)[1]\n",
    "            photo_buffer = cv2.imencode('.jpg',photo)[1].tobytes()\n",
    "            #photo_to_bytes = pickle.dumps(photo_buffer)\n",
    "            #csession.sendall(photo_to_bytes)\n",
    "            csession.sendall(photo_buffer)\n",
    "    cap.release()\n",
    "\n",
    "\"\"\"\n"
   ]
  },
  {
   "cell_type": "code",
   "execution_count": null,
   "metadata": {},
   "outputs": [],
   "source": [
    "#Function to Recieve the image Stream from server \n",
    "def Receive(csession):\n",
    "    while True:\n",
    "        data = csession.recv(921797)\n",
    "        print(sys.getsizeof(data))\n",
    "        if sys.getsizeof(data) == 921797:\n",
    "            photo = pickle.loads(data)\n",
    "            cv2.imshow(\"Video from Server\", photo)\n",
    "            if cv2.waitKey(100) == 13:\n",
    "                cv2.destroyAllWindows()\n",
    "                break\n",
    "        else:\n",
    "            pass\n",
    "\n",
    "\n",
    "\n",
    "\"\"\"\n",
    "def Receive(csession):\n",
    "    while True:\n",
    "        data = csession.recv(1000000)\n",
    "        encoded_photo = np.frombuffer(data , dtype = np.uint8)\n",
    "        photo = cv2.imdecode(encoded_photo, cv2.IMREAD_COLOR)\n",
    "        if type(photo) is type(None):\n",
    "            pass\n",
    "        else:\n",
    "            cv2.imshow(\"Video from Server\", photo)\n",
    "            if cv2.waitKey(300) == 13:\n",
    "                cv2.destroyAllWindows()\n",
    "                break\n",
    "    cap.release()\n",
    "    \n",
    "\"\"\"\n",
    "\"\"\"\n",
    "def Receive(csession):    \n",
    "    data = b\"\"\n",
    "    payload_size = struct.calcsize(\"Q\")\n",
    "\n",
    "    while True:\n",
    "        while len(data) < payload_size:\n",
    "            packet = csession.recv(4*1024)\n",
    "            if not packet: break\n",
    "            data += packet\n",
    "        packed_msg_size = data[:payload_size]\n",
    "        data = data[payload_size:]\n",
    "        msg_size = struct.unpack(\"Q\", packed_msg_size)[0]\n",
    "        while len(data) < msg_size:\n",
    "            data += csession.recv(4*1024)\n",
    "        photo_data = data[:msg_size]\n",
    "        data = data[msg_size:]\n",
    "        photo = pickle.loads(photo_data)\n",
    "        cv2.imshow(\"Video from Client\", photo)\n",
    "        if cv2.waitKey(200) == 13:\n",
    "            cv2.destroyAllWindows()\n",
    "            break\n",
    "\n",
    "\"\"\"\n"
   ]
  },
  {
   "cell_type": "code",
   "execution_count": null,
   "metadata": {},
   "outputs": [],
   "source": [
    "t1 = threading.Thread(target=Send, args=(csession,))\n",
    "t2 = threading.Thread(target=Receive, args=(csession,))"
   ]
  },
  {
   "cell_type": "code",
   "execution_count": null,
   "metadata": {},
   "outputs": [],
   "source": [
    "t1.start()\n",
    "t2.start()"
   ]
  },
  {
   "cell_type": "code",
   "execution_count": null,
   "metadata": {},
   "outputs": [],
   "source": []
  }
 ],
 "metadata": {
  "kernelspec": {
   "display_name": "Python 3",
   "language": "python",
   "name": "python3"
  },
  "language_info": {
   "codemirror_mode": {
    "name": "ipython",
    "version": 3
   },
   "file_extension": ".py",
   "mimetype": "text/x-python",
   "name": "python",
   "nbconvert_exporter": "python",
   "pygments_lexer": "ipython3",
   "version": "3.7.7"
  }
 },
 "nbformat": 4,
 "nbformat_minor": 4
}
